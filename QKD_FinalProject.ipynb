{
  "cells": [
    {
      "cell_type": "markdown",
      "metadata": {},
      "source": [
        "# Cirq implementation of Vernam cipher using QKD protocol KMB09s\n",
        "\n",
        "#### Final Project, QXQ YLC 2024\n",
        "\n",
        "Angel Martínez (anmartinezf@unal.edu.co)\n",
        "\n",
        "Last update: April 20, 2024."
      ]
    },
    {
      "cell_type": "code",
      "execution_count": 1,
      "metadata": {
        "id": "uxwsozeopp3e"
      },
      "outputs": [],
      "source": [
        "#!pip install cirq --quiet\n",
        "import cirq\n",
        "import random"
      ]
    },
    {
      "cell_type": "markdown",
      "metadata": {
        "id": "8-_nNI6Ryzub"
      },
      "source": [
        "## Generating the key with QKD KMB09 protocol"
      ]
    },
    {
      "cell_type": "code",
      "execution_count": 2,
      "metadata": {
        "id": "BPU3FYCwy-cQ"
      },
      "outputs": [],
      "source": [
        "encode_gates = {0: cirq.I, 1: cirq.X}\n",
        "basis_gates = {'Z': cirq.I, 'X': cirq.H}\n",
        "\n",
        "num_bits = 200 #Number of qubits used for the generate the key (max length of the key)\n",
        "qubits = cirq.NamedQubit.range(num_bits, prefix = 'q')"
      ]
    },
    {
      "cell_type": "code",
      "execution_count": 3,
      "metadata": {
        "colab": {
          "base_uri": "https://localhost:8080/"
        },
        "id": "J7jXrcotzB-T",
        "outputId": "55de1511-b85e-456a-9dd0-59923fcd847f"
      },
      "outputs": [
        {
          "name": "stdout",
          "output_type": "stream",
          "text": [
            "\n",
            "Alice's randomly chosen bases:  ['Z', 'Z', 'Z', 'Z', 'Z', 'Z', 'Z', 'Z', 'X', 'Z']\n",
            "Alice's initial key:  [1, 1, 1, 1, 1, 1, 1, 1, 0, 1]\n",
            "Alice's key index:  [2, 1, 2, 2, 1, 2, 2, 2, 1, 2]\n"
          ]
        }
      ],
      "source": [
        "alice_encode = random.choices([0, 1], k = num_bits) #Alice randomly chose their qubits initial state\n",
        "alice_bases = random.choices(['Z', 'X'], k = num_bits)#Alice randomly chose her bases\n",
        "print('\\nAlice\\'s randomly chosen bases: ', alice_bases[:10])\n",
        "\n",
        "alice_circuit = cirq.Circuit()\n",
        "for bit in range(num_bits):\n",
        "  #Based on the choices using the dictionaries the corresponding gates are added to the circuit\n",
        "  encode_value = alice_encode[bit]\n",
        "  encode_gate = encode_gates[encode_value]\n",
        "\n",
        "  basis_value = alice_bases[bit]\n",
        "  basis_gate = basis_gates[basis_value]\n",
        "\n",
        "  qubit = qubits[bit]\n",
        "  alice_circuit.append(encode_gate(qubit))\n",
        "  alice_circuit.append(basis_gate(qubit))\n",
        "\n",
        "#Based on her bases a '0' or a '1' is added to the key\n",
        "alice_key = [0 if base == 'X' else 1 for base in alice_bases]\n",
        "print('Alice\\'s initial key: ', alice_key[:10]) #Printing the first ten values of alice's key\n",
        "\n",
        "#The index of the i_th vector used of any base, it depends on the number of states N, in this case N=2\n",
        "alice_index = [x + 1 for x in alice_encode]\n",
        "print('Alice\\'s key index: ', alice_index[:10])\n"
      ]
    },
    {
      "cell_type": "code",
      "execution_count": 4,
      "metadata": {
        "colab": {
          "base_uri": "https://localhost:8080/"
        },
        "id": "cOu09Bn6z5Do",
        "outputId": "fb3f3679-318b-424d-d5e4-1d2728176583"
      },
      "outputs": [
        {
          "name": "stdout",
          "output_type": "stream",
          "text": [
            "Bob's randomly chosen bases:  ['Z', 'X', 'X', 'Z', 'X', 'Z', 'X', 'X', 'X', 'X']\n",
            "\n",
            "Bob's measurements:  [1 0 1 1 0 1 0 1 0 0]\n",
            "\n",
            "Bob's result:  ['-', '0', '1', '-', '0', '-', '0', '1', '0', '0']\n"
          ]
        }
      ],
      "source": [
        "bob_bases = random.choices(['Z', 'X'], k = num_bits)#Bob randomly chose her bases\n",
        "print('Bob\\'s randomly chosen bases: ', bob_bases[:10])\n",
        "\n",
        "bob_circuit = cirq.Circuit()\n",
        "for bit in range(num_bits):\n",
        "  #Based on the choices using the dictionaries the corresponding gates are added to the circuit\n",
        "  basis_value = bob_bases[bit]\n",
        "  basis_gate = basis_gates[basis_value]\n",
        "\n",
        "  qubit = qubits[bit]\n",
        "  bob_circuit.append(basis_gate(qubit))\n",
        "\n",
        "#Bob complete the circuit and measures\n",
        "bob_circuit.append(cirq.measure(qubits, key = 'bob key'))\n",
        "#print('\\nBob\\'s Phase 2 circuit:\\n', bob_circuit)\n",
        "\n",
        "\n",
        "kmb09_circuit = alice_circuit + bob_circuit\n",
        "sim = cirq.Simulator()\n",
        "results = sim.run(kmb09_circuit)\n",
        "bob_measure = results.measurements['bob key'][0]\n",
        "\n",
        "print('\\nBob\\'s measurements: ', bob_measure[:10])\n",
        "\n",
        "#From their measurments and his chosen base he could obtain on of the four possible results\n",
        "bob_result = ['0' if base == 'X' and measure == 0 else '1' if base == 'X' and measure == 1 else '+' if base == 'Z' and measure == 0 else '-' for base, measure in zip(bob_bases, bob_measure)]\n",
        "print('\\nBob\\'s result: ', bob_result[:10])"
      ]
    },
    {
      "cell_type": "code",
      "execution_count": 5,
      "metadata": {
        "colab": {
          "base_uri": "https://localhost:8080/"
        },
        "id": "mQuefmfF2x8O",
        "outputId": "aac3bc05-f492-47c5-8996-9608ee7fd68e"
      },
      "outputs": [
        {
          "name": "stdout",
          "output_type": "stream",
          "text": [
            "\n",
            "Alice's key:  [1, 1, 1, 0, 0, 0, 1, 1, 0, 0]\n",
            "Bob's key:  [1, 1, 1, 0, 0, 0, 1, 1, 0, 0]\n",
            "\n",
            "\n",
            "We can use our keys!\n",
            "Alice Key:  [1, 1, 0, 0, 0, 1, 1, 0, 0, 1]\n",
            "Bob Key:  [1, 1, 0, 0, 0, 1, 1, 0, 0, 1]\n"
          ]
        }
      ],
      "source": [
        "final_alice_key = []\n",
        "final_bob_key = []\n",
        "\n",
        "for bit in range(num_bits):\n",
        "  #Using the table proposed in the original paper of KMB09 protocol we assigned a bit to the bob's key and save the respective value of alice's key\n",
        "  if ((alice_index[bit] == 1 and bob_result[bit]=='1') or (alice_index[bit] == 2 and bob_result[bit]=='0')):\n",
        "    final_bob_key.append(1)\n",
        "    final_alice_key.append(alice_key[bit])\n",
        "\n",
        "  elif((alice_index[bit] == 1  and bob_result[bit]=='-')  or (alice_index[bit] == 2 and bob_result[bit]=='+')):\n",
        "    final_bob_key.append(0)\n",
        "    final_alice_key.append(alice_key[bit])\n",
        "\n",
        "  else: continue\n",
        "\n",
        "print('\\nAlice\\'s key: ', final_alice_key[:10])\n",
        "print('Bob\\'s key: ', final_bob_key[:10])\n",
        "\n",
        "if final_alice_key[0] == final_bob_key[0]: #Using one bit to check if there is a error\n",
        "  final_alice_key = final_alice_key[1:]\n",
        "  final_bob_key = final_bob_key[1:]\n",
        "\n",
        "  print('\\n\\nWe can use our keys!')\n",
        "  print('Alice Key: ', final_alice_key[:10])\n",
        "  print('Bob Key: ', final_bob_key[:10])\n",
        "\n",
        "else:\n",
        "  print('\\n\\nEve was listening, we need to use a different channel!')"
      ]
    },
    {
      "cell_type": "code",
      "execution_count": 6,
      "metadata": {
        "colab": {
          "base_uri": "https://localhost:8080/"
        },
        "id": "M893ZufeaRto",
        "outputId": "ced28989-3575-4bf2-95d4-bac017a2bae1"
      },
      "outputs": [
        {
          "data": {
            "text/plain": [
              "45"
            ]
          },
          "execution_count": 6,
          "metadata": {},
          "output_type": "execute_result"
        }
      ],
      "source": [
        "key = final_bob_key #Both keys are equal so we can use any of them to encrypt and decrypt the message\n",
        "len(key) #The length of the key must be equal or greater that the message's length"
      ]
    },
    {
      "cell_type": "markdown",
      "metadata": {
        "id": "OOty8XQex6w2"
      },
      "source": [
        "## Using the key for send a message"
      ]
    },
    {
      "cell_type": "code",
      "execution_count": 7,
      "metadata": {
        "colab": {
          "base_uri": "https://localhost:8080/"
        },
        "id": "N3x53kTwslue",
        "outputId": "1da665d5-10db-443b-e432-87643866dbf2"
      },
      "outputs": [
        {
          "name": "stdout",
          "output_type": "stream",
          "text": [
            "\n",
            "Message to be encrypted: COLOMBIA\n",
            "\n",
            "Key used to encrypt and decrypt: 110001100111001001001010101010011100110100110\n"
          ]
        }
      ],
      "source": [
        "message = 'COLOMBIA'\n",
        "print('\\nMessage to be encrypted:',message)\n",
        "key = ''.join(str(element) for element in key)\n",
        "print('\\nKey used to encrypt and decrypt:',key)\n",
        "binary_map = { #Codification used to encript the message's symbols\n",
        "  'A': '00000', 'B': '00001', 'C': '00010', 'D': '00011',\n",
        "  'E': '00100', 'F': '00101', 'G': '00110', 'H': '00111',\n",
        "  'I': '01000', 'J': '01001', 'K': '01010', 'L': '01011',\n",
        "  'M': '01100', 'N': '01101', 'Ñ': '01110', 'O': '01111',\n",
        "  'P': '10000', 'Q': '10001', 'R': '10010', 'S': '10011',\n",
        "  'T': '10100', 'U': '10101', 'V': '10110', 'W': '10111',\n",
        "  'X': '11000', 'Y': '11001', 'Z': '11010', ',': '11011',\n",
        "  '?': '11100', '(': '11101', ')': '11110', '.': '11111'}\n",
        "#Inverse dictionary to convert the encoding into the message\n",
        "inverted_binary_map = {value: key for key, value in binary_map.items()}"
      ]
    },
    {
      "cell_type": "code",
      "execution_count": 8,
      "metadata": {
        "id": "lYwSdp9llBKx"
      },
      "outputs": [],
      "source": [
        "def encrypt(key, message):\n",
        "  \"\"\"\n",
        "  Performs an Vernam Cipher in a given message returnuing the resulting encrypted message\n",
        "    given a key. To make this a XOR operation is performed bit by bit between each pair of\n",
        "    characters, where each character is first converted to its binary representation.\n",
        "\n",
        "  Parameters\n",
        "  ----------\n",
        "  key : str\n",
        "      The key used to encrypt the message. It must have the same length as the message.\n",
        "  message : str\n",
        "      The message to be encrypted.\n",
        "\n",
        "  Returns\n",
        "  -------\n",
        "  str\n",
        "      The resulting encrypted message, represented as a string.\n",
        "\n",
        "  Raises\n",
        "  ------\n",
        "  IndexError\n",
        "      If the length of the key length is less that the length of the message.\n",
        "\n",
        "  Example\n",
        "  --------\n",
        "  >>> encrypt('key', 'message')\n",
        "  'encrypted_message'\n",
        "  \"\"\"\n",
        "  binary = ''.join(binary_map[letter.upper()] for letter in message)#Converts the word on the corresponding codes usig the binary_map\n",
        "  encrypted_msg = \"\"\n",
        "  for i in range(len(binary)):\n",
        "    current_xor = str(int(binary[i]) ^ int(key[i]))#Apply XOR operation on the message in binary and the key\n",
        "    encrypted_msg += current_xor #Add the result to the returned variable\n",
        "  return encrypted_msg"
      ]
    },
    {
      "cell_type": "code",
      "execution_count": 9,
      "metadata": {
        "id": "UurETMaSjYOt"
      },
      "outputs": [],
      "source": [
        "def decrypt(key, encrypted_msg):\n",
        "  \"\"\"\n",
        "  Performs a decryption on a given encrypted message, returning the original message.\n",
        "  This is achieved by performing a bitwise XOR operation between each character of the\n",
        "  encrypted message and its corresponding character in the key, where each character\n",
        "  is first converted to its binary representation.\n",
        "\n",
        "  Parameters\n",
        "  ----------\n",
        "  key : str\n",
        "      The key used to decrypt the message. It must have the same length as the encrypted message.\n",
        "  encrypted_msg : str\n",
        "      The encrypted message to be decrypted.\n",
        "\n",
        "  Returns\n",
        "  -------\n",
        "  list\n",
        "      The original message, represented as a list of characters.\n",
        "\n",
        "  Raises\n",
        "  ------\n",
        "  IndexError\n",
        "      If the length of the key does not match the length of the encrypted message.\n",
        "\n",
        "  Example\n",
        "  --------\n",
        "  >>> decrypt('key', 'encrypted_message')\n",
        "  ['H', 'E', 'L', 'L', 'O']\n",
        "  \"\"\"\n",
        "  result = \"\"\n",
        "  for i in range(len(encrypted_msg)):\n",
        "      current_xor = str(int(encrypted_msg[i]) ^ int(key[i]))#Apply XOR operation on the encripted binary message and the key to decrypt\n",
        "      result += current_xor#Add the result to a decrypted binary code\n",
        "\n",
        "  decrypted_msg = []\n",
        "  for i in range(0, len(result), 5):\n",
        "      code = result[i:i+5]#Divide the binary code into groups that corresponding to the symbols of the binary map\n",
        "      decrypted_msg.append(inverted_binary_map[code])#Add each letter of the decrypted message\n",
        "\n",
        "  return decrypted_msg\n"
      ]
    },
    {
      "cell_type": "markdown",
      "metadata": {
        "id": "5BGr3oiCKmxs"
      },
      "source": [
        "Testing the encrypt and decrypt functions with the key obtained using KMB09 protocol and the chosen message."
      ]
    },
    {
      "cell_type": "code",
      "execution_count": 10,
      "metadata": {
        "colab": {
          "base_uri": "https://localhost:8080/",
          "height": 35
        },
        "id": "-1JGKdjM6bkt",
        "outputId": "c0a9e018-693e-4741-e9d9-9e0cf0fbf287"
      },
      "outputs": [
        {
          "data": {
            "text/plain": [
              "'1101010110100100101111001010110011001101'"
            ]
          },
          "execution_count": 10,
          "metadata": {},
          "output_type": "execute_result"
        }
      ],
      "source": [
        "encrypted_msg = encrypt(key,message)\n",
        "encrypted_msg"
      ]
    },
    {
      "cell_type": "code",
      "execution_count": 11,
      "metadata": {
        "colab": {
          "base_uri": "https://localhost:8080/"
        },
        "id": "FF4iy3cqDNwk",
        "outputId": "d1c0fe27-3607-44e4-c582-c49301ae1688"
      },
      "outputs": [
        {
          "data": {
            "text/plain": [
              "['C', 'O', 'L', 'O', 'M', 'B', 'I', 'A']"
            ]
          },
          "execution_count": 11,
          "metadata": {},
          "output_type": "execute_result"
        }
      ],
      "source": [
        "decrypted_msg = decrypt(key, encrypted_msg)\n",
        "decrypted_msg"
      ]
    },
    {
      "cell_type": "markdown",
      "metadata": {},
      "source": [
        "References\n",
        "==========\n",
        "1.  The Coding School \\\"Homework 9: Ιmplementing BB84 - Part I.\\\", (2024).\n",
        "2. M. Khan, M. Murphy, A. Beige \"High error-rate quantum key distribution for long-distance\n",
        "communication\", [arXiv:0901.3909](https://arxiv.org/abs/0901.3909), (2009).\n",
        "3. C. E. Shannon \"Communication Theory of Secrecy Systems\", Bell Syst. Tech. J., vol. 28, no.\n",
        "4, pp. 656-715, (1949).\n",
        "4. G. S. Vernam \"Cipher Printing Telegraph Systems For Secret Wire and Radio Telegraphic\n",
        "Communications\", J. Amer. Inst. Elec. Eng., vol. 55, no. 2, pp. 109-115, (1926).\n",
        "\n"
      ]
    }
  ],
  "metadata": {
    "colab": {
      "provenance": []
    },
    "kernelspec": {
      "display_name": "Python 3",
      "name": "python3"
    },
    "language_info": {
      "codemirror_mode": {
        "name": "ipython",
        "version": 3
      },
      "file_extension": ".py",
      "mimetype": "text/x-python",
      "name": "python",
      "nbconvert_exporter": "python",
      "pygments_lexer": "ipython3",
      "version": "3.11.3"
    }
  },
  "nbformat": 4,
  "nbformat_minor": 0
}
