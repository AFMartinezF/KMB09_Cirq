{
  "cells": [
    {
      "cell_type": "markdown",
      "metadata": {
        "id": "r9LTCOjjRwDW"
      },
      "source": [
        "# Cirq implementation of Vernam cipher using QKD protocol KMB09s\n",
        "\n",
        "#### Final Project, QXQ YLC 2024\n",
        "\n",
        "Angel Martínez (anmartinezf@unal.edu.co)\n",
        "\n",
        "Last update: April 20, 2024."
      ]
    },
    {
      "cell_type": "code",
      "execution_count": null,
      "metadata": {
        "id": "uxwsozeopp3e",
        "colab": {
          "base_uri": "https://localhost:8080/"
        },
        "outputId": "938202fa-7bbc-4a1a-a95c-2a7b95be4387"
      },
      "outputs": [
        {
          "output_type": "stream",
          "name": "stdout",
          "text": [
            "\u001b[2K     \u001b[90m━━━━━━━━━━━━━━━━━━━━━━━━━━━━━━━━━━━━━━━━\u001b[0m \u001b[32m1.8/1.8 MB\u001b[0m \u001b[31m8.6 MB/s\u001b[0m eta \u001b[36m0:00:00\u001b[0m\n",
            "\u001b[2K     \u001b[90m━━━━━━━━━━━━━━━━━━━━━━━━━━━━━━━━━━━━━━━━\u001b[0m \u001b[32m143.1/143.1 kB\u001b[0m \u001b[31m6.0 MB/s\u001b[0m eta \u001b[36m0:00:00\u001b[0m\n",
            "\u001b[2K     \u001b[90m━━━━━━━━━━━━━━━━━━━━━━━━━━━━━━━━━━━━━━━━\u001b[0m \u001b[32m598.8/598.8 kB\u001b[0m \u001b[31m14.7 MB/s\u001b[0m eta \u001b[36m0:00:00\u001b[0m\n",
            "\u001b[2K     \u001b[90m━━━━━━━━━━━━━━━━━━━━━━━━━━━━━━━━━━━━━━━━\u001b[0m \u001b[32m60.9/60.9 kB\u001b[0m \u001b[31m769.1 kB/s\u001b[0m eta \u001b[36m0:00:00\u001b[0m\n",
            "\u001b[2K     \u001b[90m━━━━━━━━━━━━━━━━━━━━━━━━━━━━━━━━━━━━━━━━\u001b[0m \u001b[32m66.2/66.2 kB\u001b[0m \u001b[31m2.9 MB/s\u001b[0m eta \u001b[36m0:00:00\u001b[0m\n",
            "\u001b[2K     \u001b[90m━━━━━━━━━━━━━━━━━━━━━━━━━━━━━━━━━━━━━━━━\u001b[0m \u001b[32m596.5/596.5 kB\u001b[0m \u001b[31m15.8 MB/s\u001b[0m eta \u001b[36m0:00:00\u001b[0m\n",
            "\u001b[2K     \u001b[90m━━━━━━━━━━━━━━━━━━━━━━━━━━━━━━━━━━━━━━━━\u001b[0m \u001b[32m223.8/223.8 kB\u001b[0m \u001b[31m11.0 MB/s\u001b[0m eta \u001b[36m0:00:00\u001b[0m\n",
            "\u001b[2K     \u001b[90m━━━━━━━━━━━━━━━━━━━━━━━━━━━━━━━━━━━━━━━━\u001b[0m \u001b[32m229.9/229.9 kB\u001b[0m \u001b[31m19.8 MB/s\u001b[0m eta \u001b[36m0:00:00\u001b[0m\n",
            "\u001b[?25h  Preparing metadata (setup.py) ... \u001b[?25l\u001b[?25hdone\n",
            "\u001b[2K     \u001b[90m━━━━━━━━━━━━━━━━━━━━━━━━━━━━━━━━━━━━━━━━\u001b[0m \u001b[32m151.7/151.7 kB\u001b[0m \u001b[31m11.5 MB/s\u001b[0m eta \u001b[36m0:00:00\u001b[0m\n",
            "\u001b[2K     \u001b[90m━━━━━━━━━━━━━━━━━━━━━━━━━━━━━━━━━━━━━━━━\u001b[0m \u001b[32m45.6/45.6 kB\u001b[0m \u001b[31m3.8 MB/s\u001b[0m eta \u001b[36m0:00:00\u001b[0m\n",
            "\u001b[?25h  Preparing metadata (setup.py) ... \u001b[?25l\u001b[?25hdone\n",
            "\u001b[2K     \u001b[90m━━━━━━━━━━━━━━━━━━━━━━━━━━━━━━━━━━━━━━━━\u001b[0m \u001b[32m1.6/1.6 MB\u001b[0m \u001b[31m27.0 MB/s\u001b[0m eta \u001b[36m0:00:00\u001b[0m\n",
            "\u001b[2K     \u001b[90m━━━━━━━━━━━━━━━━━━━━━━━━━━━━━━━━━━━━━━━━\u001b[0m \u001b[32m151.7/151.7 kB\u001b[0m \u001b[31m11.7 MB/s\u001b[0m eta \u001b[36m0:00:00\u001b[0m\n",
            "\u001b[2K     \u001b[90m━━━━━━━━━━━━━━━━━━━━━━━━━━━━━━━━━━━━━━━━\u001b[0m \u001b[32m151.7/151.7 kB\u001b[0m \u001b[31m12.6 MB/s\u001b[0m eta \u001b[36m0:00:00\u001b[0m\n",
            "\u001b[2K     \u001b[90m━━━━━━━━━━━━━━━━━━━━━━━━━━━━━━━━━━━━━━━━\u001b[0m \u001b[32m147.4/147.4 kB\u001b[0m \u001b[31m12.5 MB/s\u001b[0m eta \u001b[36m0:00:00\u001b[0m\n",
            "\u001b[2K     \u001b[90m━━━━━━━━━━━━━━━━━━━━━━━━━━━━━━━━━━━━━━━━\u001b[0m \u001b[32m147.4/147.4 kB\u001b[0m \u001b[31m13.9 MB/s\u001b[0m eta \u001b[36m0:00:00\u001b[0m\n",
            "\u001b[2K     \u001b[90m━━━━━━━━━━━━━━━━━━━━━━━━━━━━━━━━━━━━━━━━\u001b[0m \u001b[32m147.4/147.4 kB\u001b[0m \u001b[31m8.9 MB/s\u001b[0m eta \u001b[36m0:00:00\u001b[0m\n",
            "\u001b[2K     \u001b[90m━━━━━━━━━━━━━━━━━━━━━━━━━━━━━━━━━━━━━━━━\u001b[0m \u001b[32m142.7/142.7 kB\u001b[0m \u001b[31m14.8 MB/s\u001b[0m eta \u001b[36m0:00:00\u001b[0m\n",
            "\u001b[2K     \u001b[90m━━━━━━━━━━━━━━━━━━━━━━━━━━━━━━━━━━━━━━━━\u001b[0m \u001b[32m85.5/85.5 kB\u001b[0m \u001b[31m5.8 MB/s\u001b[0m eta \u001b[36m0:00:00\u001b[0m\n",
            "\u001b[2K     \u001b[90m━━━━━━━━━━━━━━━━━━━━━━━━━━━━━━━━━━━━━━━━\u001b[0m \u001b[32m85.1/85.1 kB\u001b[0m \u001b[31m7.0 MB/s\u001b[0m eta \u001b[36m0:00:00\u001b[0m\n",
            "\u001b[2K     \u001b[90m━━━━━━━━━━━━━━━━━━━━━━━━━━━━━━━━━━━━━━━━\u001b[0m \u001b[32m84.7/84.7 kB\u001b[0m \u001b[31m6.5 MB/s\u001b[0m eta \u001b[36m0:00:00\u001b[0m\n",
            "\u001b[2K     \u001b[90m━━━━━━━━━━━━━━━━━━━━━━━━━━━━━━━━━━━━━━━━\u001b[0m \u001b[32m83.6/83.6 kB\u001b[0m \u001b[31m7.1 MB/s\u001b[0m eta \u001b[36m0:00:00\u001b[0m\n",
            "\u001b[2K     \u001b[90m━━━━━━━━━━━━━━━━━━━━━━━━━━━━━━━━━━━━━━━━\u001b[0m \u001b[32m83.3/83.3 kB\u001b[0m \u001b[31m2.4 MB/s\u001b[0m eta \u001b[36m0:00:00\u001b[0m\n",
            "\u001b[2K     \u001b[90m━━━━━━━━━━━━━━━━━━━━━━━━━━━━━━━━━━━━━━━━\u001b[0m \u001b[32m83.4/83.4 kB\u001b[0m \u001b[31m3.4 MB/s\u001b[0m eta \u001b[36m0:00:00\u001b[0m\n",
            "\u001b[2K     \u001b[90m━━━━━━━━━━━━━━━━━━━━━━━━━━━━━━━━━━━━━━━━\u001b[0m \u001b[32m83.2/83.2 kB\u001b[0m \u001b[31m5.9 MB/s\u001b[0m eta \u001b[36m0:00:00\u001b[0m\n",
            "\u001b[2K     \u001b[90m━━━━━━━━━━━━━━━━━━━━━━━━━━━━━━━━━━━━━━━━\u001b[0m \u001b[32m82.5/82.5 kB\u001b[0m \u001b[31m5.9 MB/s\u001b[0m eta \u001b[36m0:00:00\u001b[0m\n",
            "\u001b[2K     \u001b[90m━━━━━━━━━━━━━━━━━━━━━━━━━━━━━━━━━━━━━━━━\u001b[0m \u001b[32m81.0/81.0 kB\u001b[0m \u001b[31m8.9 MB/s\u001b[0m eta \u001b[36m0:00:00\u001b[0m\n",
            "\u001b[2K     \u001b[90m━━━━━━━━━━━━━━━━━━━━━━━━━━━━━━━━━━━━━━━━\u001b[0m \u001b[32m81.0/81.0 kB\u001b[0m \u001b[31m3.9 MB/s\u001b[0m eta \u001b[36m0:00:00\u001b[0m\n",
            "\u001b[2K     \u001b[90m━━━━━━━━━━━━━━━━━━━━━━━━━━━━━━━━━━━━━━━━\u001b[0m \u001b[32m80.8/80.8 kB\u001b[0m \u001b[31m4.3 MB/s\u001b[0m eta \u001b[36m0:00:00\u001b[0m\n",
            "\u001b[2K     \u001b[90m━━━━━━━━━━━━━━━━━━━━━━━━━━━━━━━━━━━━━━━━\u001b[0m \u001b[32m80.7/80.7 kB\u001b[0m \u001b[31m3.4 MB/s\u001b[0m eta \u001b[36m0:00:00\u001b[0m\n",
            "\u001b[2K     \u001b[90m━━━━━━━━━━━━━━━━━━━━━━━━━━━━━━━━━━━━━━━━\u001b[0m \u001b[32m81.5/81.5 kB\u001b[0m \u001b[31m7.0 MB/s\u001b[0m eta \u001b[36m0:00:00\u001b[0m\n",
            "\u001b[2K     \u001b[90m━━━━━━━━━━━━━━━━━━━━━━━━━━━━━━━━━━━━━━━━\u001b[0m \u001b[32m90.4/90.4 kB\u001b[0m \u001b[31m6.8 MB/s\u001b[0m eta \u001b[36m0:00:00\u001b[0m\n",
            "\u001b[2K     \u001b[90m━━━━━━━━━━━━━━━━━━━━━━━━━━━━━━━━━━━━━━━━\u001b[0m \u001b[32m117.7/117.7 kB\u001b[0m \u001b[31m9.4 MB/s\u001b[0m eta \u001b[36m0:00:00\u001b[0m\n",
            "\u001b[2K     \u001b[90m━━━━━━━━━━━━━━━━━━━━━━━━━━━━━━━━━━━━━━━━\u001b[0m \u001b[32m60.6/60.6 kB\u001b[0m \u001b[31m3.0 MB/s\u001b[0m eta \u001b[36m0:00:00\u001b[0m\n",
            "\u001b[2K     \u001b[90m━━━━━━━━━━━━━━━━━━━━━━━━━━━━━━━━━━━━━━━━\u001b[0m \u001b[32m71.5/71.5 kB\u001b[0m \u001b[31m5.1 MB/s\u001b[0m eta \u001b[36m0:00:00\u001b[0m\n",
            "\u001b[2K     \u001b[90m━━━━━━━━━━━━━━━━━━━━━━━━━━━━━━━━━━━━━━━━\u001b[0m \u001b[32m3.1/3.1 MB\u001b[0m \u001b[31m30.7 MB/s\u001b[0m eta \u001b[36m0:00:00\u001b[0m\n",
            "\u001b[2K     \u001b[90m━━━━━━━━━━━━━━━━━━━━━━━━━━━━━━━━━━━━━━━━\u001b[0m \u001b[32m1.7/1.7 MB\u001b[0m \u001b[31m26.4 MB/s\u001b[0m eta \u001b[36m0:00:00\u001b[0m\n",
            "\u001b[2K     \u001b[90m━━━━━━━━━━━━━━━━━━━━━━━━━━━━━━━━━━━━━━━━\u001b[0m \u001b[32m117.8/117.8 kB\u001b[0m \u001b[31m4.3 MB/s\u001b[0m eta \u001b[36m0:00:00\u001b[0m\n",
            "\u001b[2K     \u001b[90m━━━━━━━━━━━━━━━━━━━━━━━━━━━━━━━━━━━━━━━━\u001b[0m \u001b[32m69.6/69.6 kB\u001b[0m \u001b[31m5.7 MB/s\u001b[0m eta \u001b[36m0:00:00\u001b[0m\n",
            "\u001b[2K     \u001b[90m━━━━━━━━━━━━━━━━━━━━━━━━━━━━━━━━━━━━━━━━\u001b[0m \u001b[32m526.7/526.7 kB\u001b[0m \u001b[31m35.2 MB/s\u001b[0m eta \u001b[36m0:00:00\u001b[0m\n",
            "\u001b[2K     \u001b[90m━━━━━━━━━━━━━━━━━━━━━━━━━━━━━━━━━━━━━━━━\u001b[0m \u001b[32m58.3/58.3 kB\u001b[0m \u001b[31m5.0 MB/s\u001b[0m eta \u001b[36m0:00:00\u001b[0m\n",
            "\u001b[?25h  Building wheel for lark (setup.py) ... \u001b[?25l\u001b[?25hdone\n",
            "  Building wheel for rpcq (setup.py) ... \u001b[?25l\u001b[?25hdone\n",
            "\u001b[31mERROR: pip's dependency resolver does not currently take into account all the packages that are installed. This behaviour is the source of the following dependency conflicts.\n",
            "referencing 0.34.0 requires attrs>=22.2.0, but you have attrs 21.4.0 which is incompatible.\u001b[0m\u001b[31m\n",
            "\u001b[0m"
          ]
        }
      ],
      "source": [
        "!pip install cirq --quiet\n",
        "import cirq\n",
        "import random"
      ]
    },
    {
      "cell_type": "markdown",
      "metadata": {
        "id": "8-_nNI6Ryzub"
      },
      "source": [
        "## Generating the key with QKD KMB09 protocol"
      ]
    },
    {
      "cell_type": "code",
      "execution_count": null,
      "metadata": {
        "id": "BPU3FYCwy-cQ"
      },
      "outputs": [],
      "source": [
        "encode_gates = {0: cirq.I, 1: cirq.X}\n",
        "basis_gates = {'Z': cirq.I, 'X': cirq.H}\n",
        "\n",
        "num_bits = 200 #Number of qubits used for the generate the key (max length of the key)\n",
        "qubits = cirq.NamedQubit.range(num_bits, prefix = 'q')"
      ]
    },
    {
      "cell_type": "code",
      "execution_count": null,
      "metadata": {
        "colab": {
          "base_uri": "https://localhost:8080/"
        },
        "id": "J7jXrcotzB-T",
        "outputId": "ac1aa485-b129-49cb-fa85-199476eed7dc"
      },
      "outputs": [
        {
          "output_type": "stream",
          "name": "stdout",
          "text": [
            "\n",
            "Alice's randomly chosen bases:  ['Z', 'Z', 'Z', 'Z', 'Z', 'Z', 'X', 'X', 'X', 'Z']\n",
            "Alice's initial key:  [0, 0, 0, 0, 0, 0, 1, 1, 1, 0]\n",
            "Alice's key index:  [1, 2, 2, 1, 2, 1, 2, 1, 2, 1]\n"
          ]
        }
      ],
      "source": [
        "alice_encode = random.choices([0, 1], k = num_bits) #Alice randomly chose their qubits initial state\n",
        "alice_bases = random.choices(['Z', 'X'], k = num_bits)#Alice randomly chose her bases\n",
        "print('\\nAlice\\'s randomly chosen bases: ', alice_bases[:10])\n",
        "\n",
        "alice_circuit = cirq.Circuit()\n",
        "for bit in range(num_bits):\n",
        "  #Based on the choices using the dictionaries the corresponding gates are added to the circuit\n",
        "  encode_value = alice_encode[bit]\n",
        "  encode_gate = encode_gates[encode_value]\n",
        "\n",
        "  basis_value = alice_bases[bit]\n",
        "  basis_gate = basis_gates[basis_value]\n",
        "\n",
        "  qubit = qubits[bit]\n",
        "  alice_circuit.append(encode_gate(qubit))\n",
        "  alice_circuit.append(basis_gate(qubit))\n",
        "\n",
        "#Based on her bases a '0' or a '1' is added to the key\n",
        "alice_key = [0 if base == 'Z' else 1 for base in alice_bases]\n",
        "print('Alice\\'s initial key: ', alice_key[:10]) #Printing the first ten values of alice's key\n",
        "\n",
        "#The index of the i_th vector used of any base, it depends on the number of states N, in this case N=2\n",
        "alice_index = [x + 1 for x in alice_encode]\n",
        "print('Alice\\'s key index: ', alice_index[:10])\n"
      ]
    },
    {
      "cell_type": "code",
      "execution_count": null,
      "metadata": {
        "colab": {
          "base_uri": "https://localhost:8080/"
        },
        "id": "cOu09Bn6z5Do",
        "outputId": "26de8a0a-e458-4107-f891-c4506955c8fd"
      },
      "outputs": [
        {
          "output_type": "stream",
          "name": "stdout",
          "text": [
            "Bob's randomly chosen bases:  ['Z', 'X', 'X', 'Z', 'X', 'Z', 'Z', 'Z', 'X', 'Z']\n",
            "\n",
            "Bob's measurements:  [0 0 0 0 0 0 1 0 1 0]\n",
            "\n",
            "Bob's result:  ['0', '+', '+', '0', '+', '0', '1', '0', '-', '0']\n"
          ]
        }
      ],
      "source": [
        "bob_bases = random.choices(['Z', 'X'], k = num_bits)#Bob randomly chose her bases\n",
        "print('Bob\\'s randomly chosen bases: ', bob_bases[:10])\n",
        "\n",
        "bob_circuit = cirq.Circuit()\n",
        "for bit in range(num_bits):\n",
        "  #Based on the choices using the dictionaries the corresponding gates are added to the circuit\n",
        "  basis_value = bob_bases[bit]\n",
        "  basis_gate = basis_gates[basis_value]\n",
        "\n",
        "  qubit = qubits[bit]\n",
        "  bob_circuit.append(basis_gate(qubit))\n",
        "\n",
        "#Bob complete the circuit and measures\n",
        "bob_circuit.append(cirq.measure(qubits, key = 'bob key'))\n",
        "#print('\\nBob\\'s Phase 2 circuit:\\n', bob_circuit)\n",
        "\n",
        "\n",
        "kmb09_circuit = alice_circuit + bob_circuit\n",
        "sim = cirq.Simulator()\n",
        "results = sim.run(kmb09_circuit)\n",
        "bob_measure = results.measurements['bob key'][0]\n",
        "\n",
        "print('\\nBob\\'s measurements: ', bob_measure[:10])\n",
        "\n",
        "#From their measurments and his chosen base he could obtain on of the four possible results\n",
        "bob_result = ['0' if base == 'Z' and measure == 0 else '1' if base == 'Z' and measure == 1 else '+' if base == 'X' and measure == 0 else '-' for base, measure in zip(bob_bases, bob_measure)]\n",
        "print('\\nBob\\'s result: ', bob_result[:10])"
      ]
    },
    {
      "cell_type": "code",
      "execution_count": null,
      "metadata": {
        "colab": {
          "base_uri": "https://localhost:8080/"
        },
        "id": "mQuefmfF2x8O",
        "outputId": "acdd4c6c-b3e4-40e9-c912-ddaf22d2318d"
      },
      "outputs": [
        {
          "output_type": "stream",
          "name": "stdout",
          "text": [
            "\n",
            "Alice's key:  [0, 0, 0, 0, 1, 1, 0, 1, 0, 1]\n",
            "Bob's key:  [0, 0, 0, 0, 1, 1, 0, 1, 0, 1]\n",
            "\n",
            "\n",
            "We can use our keys!\n",
            "Alice Key:  [0, 0, 0, 1, 1, 0, 1, 0, 1, 1]\n",
            "Bob Key:  [0, 0, 0, 1, 1, 0, 1, 0, 1, 1]\n"
          ]
        }
      ],
      "source": [
        "final_alice_key = []\n",
        "final_bob_key = []\n",
        "\n",
        "for bit in range(num_bits):\n",
        "  #Using the table proposed in the original paper of KMB09 protocol we assigned a bit to the bob's key and save the respective value of alice's key\n",
        "  if ((alice_index[bit] == 1 and bob_result[bit]=='1') or (alice_index[bit] == 2 and bob_result[bit]=='0')):\n",
        "    final_bob_key.append(1)\n",
        "    final_alice_key.append(alice_key[bit])\n",
        "\n",
        "  elif((alice_index[bit] == 1  and bob_result[bit]=='-')  or (alice_index[bit] == 2 and bob_result[bit]=='+')):\n",
        "    final_bob_key.append(0)\n",
        "    final_alice_key.append(alice_key[bit])\n",
        "\n",
        "  else: continue\n",
        "\n",
        "print('\\nAlice\\'s key: ', final_alice_key[:10])\n",
        "print('Bob\\'s key: ', final_bob_key[:10])\n",
        "\n",
        "if final_alice_key[0] == final_bob_key[0]: #Using one bit to check if there is a error\n",
        "  final_alice_key = final_alice_key[1:]\n",
        "  final_bob_key = final_bob_key[1:]\n",
        "\n",
        "  print('\\n\\nWe can use our keys!')\n",
        "  print('Alice Key: ', final_alice_key[:10])\n",
        "  print('Bob Key: ', final_bob_key[:10])\n",
        "\n",
        "else:\n",
        "  print('\\n\\nEve was listening, we need to use a different channel!')"
      ]
    },
    {
      "cell_type": "code",
      "execution_count": null,
      "metadata": {
        "colab": {
          "base_uri": "https://localhost:8080/"
        },
        "id": "M893ZufeaRto",
        "outputId": "121869e9-3f07-4e1d-aabb-d753337849ee"
      },
      "outputs": [
        {
          "output_type": "execute_result",
          "data": {
            "text/plain": [
              "43"
            ]
          },
          "metadata": {},
          "execution_count": 16
        }
      ],
      "source": [
        "key = final_bob_key #Both keys are equal so we can use any of them to encrypt and decrypt the message\n",
        "len(key) #The length of the key must be equal or greater that the message's length"
      ]
    },
    {
      "cell_type": "markdown",
      "metadata": {
        "id": "OOty8XQex6w2"
      },
      "source": [
        "## Using the key for send a message"
      ]
    },
    {
      "cell_type": "code",
      "execution_count": null,
      "metadata": {
        "colab": {
          "base_uri": "https://localhost:8080/"
        },
        "id": "N3x53kTwslue",
        "outputId": "1a404149-a526-4ceb-a697-8eb1a9ce4441"
      },
      "outputs": [
        {
          "output_type": "stream",
          "name": "stdout",
          "text": [
            "\n",
            "Message to be encrypted: COLOMBIA\n",
            "\n",
            "Key used to encrypt and decrypt: 0001101011000010111111100101010000100000001\n"
          ]
        }
      ],
      "source": [
        "message = 'COLOMBIA'\n",
        "print('\\nMessage to be encrypted:',message)\n",
        "key = ''.join(str(element) for element in key)\n",
        "print('\\nKey used to encrypt and decrypt:',key)\n",
        "binary_map = { #Codification used to encript the message's symbols\n",
        "  'A': '00000', 'B': '00001', 'C': '00010', 'D': '00011',\n",
        "  'E': '00100', 'F': '00101', 'G': '00110', 'H': '00111',\n",
        "  'I': '01000', 'J': '01001', 'K': '01010', 'L': '01011',\n",
        "  'M': '01100', 'N': '01101', 'Ñ': '01110', 'O': '01111',\n",
        "  'P': '10000', 'Q': '10001', 'R': '10010', 'S': '10011',\n",
        "  'T': '10100', 'U': '10101', 'V': '10110', 'W': '10111',\n",
        "  'X': '11000', 'Y': '11001', 'Z': '11010', ',': '11011',\n",
        "  '?': '11100', '(': '11101', ')': '11110', '.': '11111'}\n",
        "#Inverse dictionary to convert the encoding into the message\n",
        "inverted_binary_map = {value: key for key, value in binary_map.items()}"
      ]
    },
    {
      "cell_type": "code",
      "execution_count": null,
      "metadata": {
        "id": "lYwSdp9llBKx"
      },
      "outputs": [],
      "source": [
        "def encrypt(key, message):\n",
        "  \"\"\"\n",
        "  Performs an Vernam Cipher in a given message returnuing the resulting encrypted message\n",
        "    given a key. To make this a XOR operation is performed bit by bit between each pair of\n",
        "    characters, where each character is first converted to its binary representation.\n",
        "\n",
        "  Parameters\n",
        "  ----------\n",
        "  key : str\n",
        "      The key used to encrypt the message. It must have the same length as the message.\n",
        "  message : str\n",
        "      The message to be encrypted.\n",
        "\n",
        "  Returns\n",
        "  -------\n",
        "  str\n",
        "      The resulting encrypted message, represented as a string.\n",
        "\n",
        "  Raises\n",
        "  ------\n",
        "  IndexError\n",
        "      If the length of the key length is less that the length of the message.\n",
        "\n",
        "  Example\n",
        "  --------\n",
        "  >>> encrypt('key', 'message')\n",
        "  'encrypted_message'\n",
        "  \"\"\"\n",
        "  binary = ''.join(binary_map[letter.upper()] for letter in message)#Converts the word on the corresponding codes usig the binary_map\n",
        "  encrypted_msg = \"\"\n",
        "  for i in range(len(binary)):\n",
        "    current_xor = str(int(binary[i]) ^ int(key[i]))#Apply XOR operation on the message in binary and the key\n",
        "    encrypted_msg += current_xor #Add the result to the returned variable\n",
        "  return encrypted_msg"
      ]
    },
    {
      "cell_type": "code",
      "execution_count": null,
      "metadata": {
        "id": "UurETMaSjYOt"
      },
      "outputs": [],
      "source": [
        "def decrypt(key, encrypted_msg):\n",
        "  \"\"\"\n",
        "  Performs a decryption on a given encrypted message, returning the original message.\n",
        "  This is achieved by performing a bitwise XOR operation between each character of the\n",
        "  encrypted message and its corresponding character in the key, where each character\n",
        "  is first converted to its binary representation.\n",
        "\n",
        "  Parameters\n",
        "  ----------\n",
        "  key : str\n",
        "      The key used to decrypt the message. It must have the same length as the encrypted message.\n",
        "  encrypted_msg : str\n",
        "      The encrypted message to be decrypted.\n",
        "\n",
        "  Returns\n",
        "  -------\n",
        "  list\n",
        "      The original message, represented as a list of characters.\n",
        "\n",
        "  Raises\n",
        "  ------\n",
        "  IndexError\n",
        "      If the length of the key does not match the length of the encrypted message.\n",
        "\n",
        "  Example\n",
        "  --------\n",
        "  >>> decrypt('key', 'encrypted_message')\n",
        "  ['H', 'E', 'L', 'L', 'O']\n",
        "  \"\"\"\n",
        "  result = \"\"\n",
        "  for i in range(len(encrypted_msg)):\n",
        "      current_xor = str(int(encrypted_msg[i]) ^ int(key[i]))#Apply XOR operation on the encripted binary message and the key to decrypt\n",
        "      result += current_xor#Add the result to a decrypted binary code\n",
        "\n",
        "  decrypted_msg = []\n",
        "  for i in range(0, len(result), 5):\n",
        "      code = result[i:i+5]#Divide the binary code into groups that corresponding to the symbols of the binary map\n",
        "      decrypted_msg.append(inverted_binary_map[code])#Add each letter of the decrypted message\n",
        "\n",
        "  return decrypted_msg"
      ]
    },
    {
      "cell_type": "markdown",
      "metadata": {
        "id": "5BGr3oiCKmxs"
      },
      "source": [
        "Testing the encrypt and decrypt functions with the key obtained using KMB09 protocol and the chosen message."
      ]
    },
    {
      "cell_type": "code",
      "execution_count": null,
      "metadata": {
        "colab": {
          "base_uri": "https://localhost:8080/",
          "height": 35
        },
        "id": "-1JGKdjM6bkt",
        "outputId": "93cfbde8-7eeb-4459-b424-37520b198552"
      },
      "outputs": [
        {
          "output_type": "execute_result",
          "data": {
            "text/plain": [
              "'0000100100010100000010000101000100100000'"
            ],
            "application/vnd.google.colaboratory.intrinsic+json": {
              "type": "string"
            }
          },
          "metadata": {},
          "execution_count": 20
        }
      ],
      "source": [
        "encrypted_msg = encrypt(key,message)\n",
        "encrypted_msg"
      ]
    },
    {
      "cell_type": "code",
      "execution_count": null,
      "metadata": {
        "colab": {
          "base_uri": "https://localhost:8080/"
        },
        "id": "FF4iy3cqDNwk",
        "outputId": "8ed6e736-5b15-41db-9099-2339312a6b83"
      },
      "outputs": [
        {
          "output_type": "execute_result",
          "data": {
            "text/plain": [
              "['C', 'O', 'L', 'O', 'M', 'B', 'I', 'A']"
            ]
          },
          "metadata": {},
          "execution_count": 21
        }
      ],
      "source": [
        "decrypted_msg = decrypt(key, encrypted_msg)\n",
        "decrypted_msg"
      ]
    },
    {
      "cell_type": "markdown",
      "metadata": {
        "id": "R9_SZGOQRwDh"
      },
      "source": [
        "References\n",
        "==========\n",
        "1.  The Coding School \\\"Homework 9: Ιmplementing BB84 - Part I.\\\", (2024).\n",
        "2. M. Khan, M. Murphy, A. Beige \"High error-rate quantum key distribution for long-distance\n",
        "communication\", [arXiv:0901.3909](https://arxiv.org/abs/0901.3909), (2009).\n",
        "3. C. E. Shannon \"Communication Theory of Secrecy Systems\", Bell Syst. Tech. J., vol. 28, no.\n",
        "4, pp. 656-715, (1949).\n",
        "4. G. S. Vernam \"Cipher Printing Telegraph Systems For Secret Wire and Radio Telegraphic\n",
        "Communications\", J. Amer. Inst. Elec. Eng., vol. 55, no. 2, pp. 109-115, (1926).\n",
        "\n"
      ]
    }
  ],
  "metadata": {
    "colab": {
      "provenance": []
    },
    "kernelspec": {
      "display_name": "Python 3",
      "name": "python3"
    },
    "language_info": {
      "codemirror_mode": {
        "name": "ipython",
        "version": 3
      },
      "file_extension": ".py",
      "mimetype": "text/x-python",
      "name": "python",
      "nbconvert_exporter": "python",
      "pygments_lexer": "ipython3",
      "version": "3.11.3"
    }
  },
  "nbformat": 4,
  "nbformat_minor": 0
}